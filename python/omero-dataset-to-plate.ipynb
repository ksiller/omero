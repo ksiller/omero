{
 "cells": [
  {
   "cell_type": "code",
   "execution_count": null,
   "metadata": {},
   "outputs": [],
   "source": [
    "host = 'omero.hpc.virginia.edu' \n",
    "port = 4064\n",
    "username = os.environ['USER']\n",
    "group_id = -1\n",
    "password = getpass.getpass()"
   ]
  },
  {
   "cell_type": "markdown",
   "metadata": {},
   "source": [
    "# Connect"
   ]
  },
  {
   "cell_type": "code",
   "execution_count": null,
   "metadata": {},
   "outputs": [],
   "source": [
    "import os\n",
    "import getpass\n",
    "import re\n",
    "\n",
    "import omero\n",
    "from omero.gateway import BlitzGateway\n",
    "from omero.rtypes import rint, rlong, rstring, robject, unwrap\n",
    "\n",
    "conn = BlitzGateway(username, password, host=host, port=port)\n",
    "conn.connect()"
   ]
  },
  {
   "cell_type": "markdown",
   "metadata": {},
   "source": [
    "# Import Parameters"
   ]
  },
  {
   "cell_type": "code",
   "execution_count": null,
   "metadata": {},
   "outputs": [],
   "source": [
    "# fpath = '/scratch/khs3z/ORourke/JOW17/original'\n",
    "#source\n",
    "datasetId = 200\n",
    "numCols = 12\n",
    "rowLabels = {'A':0,'B':1,'C':2,'D':3,'E':4,'F':5,'G':6, 'H':7,}\n",
    "colLabels = {str(i+1).zfill(2):i for i in range(numCols)}\n",
    "\n",
    "# target\n",
    "screenId = 53"
   ]
  },
  {
   "cell_type": "markdown",
   "metadata": {},
   "source": [
    "# Function to create Well Information for Image"
   ]
  },
  {
   "cell_type": "code",
   "execution_count": null,
   "metadata": {},
   "outputs": [],
   "source": [
    "def createWell(conn,plateId,imageId):\n",
    "    image = conn.getObject(\"Image\",imageId)\n",
    "    wellName = re.search('(?<=_Well)(.*?)(?=_Seq)', image.getName()).group(0)\n",
    "    m = re.split('(\\D+)', wellName)\n",
    "    wellRow = rowLabels[m[1]]\n",
    "    wellCol = colLabels[m[2]]\n",
    "    print (\"Row: %d, Col: %d, Well: %s, Name: %s\" % (wellRow, wellCol, wellName, image.getName()))\n",
    "\n",
    "    updateService = conn.getUpdateService()\n",
    "\n",
    "    well = omero.model.WellI()\n",
    "    well.plate = omero.model.PlateI(int(plateId), False)\n",
    "\n",
    "    #wellRowCol = Well96_to_RowCol.get(wellNum)\n",
    "    well.column = rint(wellCol) #rint(wellRowCol[1])\n",
    "    well.row = rint(wellRow) #rint(wellRowCol[0])\n",
    "\n",
    "    ws = omero.model.WellSampleI()\n",
    "    ws.image = omero.model.ImageI(image.id,False)\n",
    "    ws.well = well  \n",
    "    well.addWellSample(ws)\n",
    "    updateService.saveAndReturnObject(ws)"
   ]
  },
  {
   "cell_type": "markdown",
   "metadata": {},
   "source": [
    "# Create a new Plate"
   ]
  },
  {
   "cell_type": "code",
   "execution_count": null,
   "metadata": {},
   "outputs": [],
   "source": [
    "# Get the dataset\n",
    "ds = conn.getObject('Dataset', datasetId)\n",
    "\n",
    "# get service instance\n",
    "updateService = conn.getUpdateService()\n",
    "\n",
    "# Define new plate using the dataset name\n",
    "plate = omero.model.PlateI()\n",
    "plate.name = omero.rtypes.RStringI(ds.getName())\n",
    "plate.columnNamingConvention = rstring(\"number\")\n",
    "plate.rowNamingConvention = rstring(\"letter\")\n",
    "plate = updateService.saveAndReturnObject(plate)\n",
    "plateId = plate.id.val\n",
    "plate = conn.getObject(\"Plate\",plateId)\n"
   ]
  },
  {
   "cell_type": "code",
   "execution_count": null,
   "metadata": {},
   "outputs": [],
   "source": [
    "# Get Images from Raw Dataset and create Well info\n",
    "for img in ds.listChildren():\n",
    "    createWell(conn, plateId, img.getId())"
   ]
  },
  {
   "cell_type": "markdown",
   "metadata": {},
   "source": [
    "# Close Connection"
   ]
  },
  {
   "cell_type": "code",
   "execution_count": null,
   "metadata": {},
   "outputs": [],
   "source": [
    "conn.close()"
   ]
  },
  {
   "cell_type": "markdown",
   "metadata": {},
   "source": [
    "# Get files"
   ]
  },
  {
   "cell_type": "code",
   "execution_count": null,
   "metadata": {},
   "outputs": [],
   "source": [
    "from os import listdir\n",
    "from os.path import isfile, join\n",
    "\n",
    "\n",
    "imgfiles = [f for f in listdir(fpath) if isfile(join(fpath, f))]\n",
    "for f in imgfiles:\n",
    "    print f"
   ]
  }
 ],
 "metadata": {
  "kernelspec": {
   "display_name": "OMERO 5.4.10",
   "language": "python",
   "name": "omero"
  },
  "language_info": {
   "codemirror_mode": {
    "name": "ipython",
    "version": 2
   },
   "file_extension": ".py",
   "mimetype": "text/x-python",
   "name": "python",
   "nbconvert_exporter": "python",
   "pygments_lexer": "ipython2",
   "version": "2.7.15"
  }
 },
 "nbformat": 4,
 "nbformat_minor": 2
}
