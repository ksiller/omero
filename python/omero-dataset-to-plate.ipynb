{
 "cells": [
  {
   "cell_type": "code",
   "execution_count": 14,
   "metadata": {},
   "outputs": [
    {
     "name": "stdin",
     "output_type": "stream",
     "text": [
      " ·····\n"
     ]
    }
   ],
   "source": [
    "import os\n",
    "import getpass\n",
    "\n",
    "host = 'omero.hpc.virginia.edu' \n",
    "port = 4064\n",
    "username = os.environ['USER']\n",
    "group_id = -1\n",
    "password = getpass.getpass()"
   ]
  },
  {
   "cell_type": "markdown",
   "metadata": {},
   "source": [
    "# Connect"
   ]
  },
  {
   "cell_type": "code",
   "execution_count": 20,
   "metadata": {},
   "outputs": [
    {
     "data": {
      "text/plain": [
       "True"
      ]
     },
     "execution_count": 20,
     "metadata": {},
     "output_type": "execute_result"
    }
   ],
   "source": [
    "import omero\n",
    "from omero.gateway import BlitzGateway\n",
    "from omero.rtypes import rint, rlong, rstring, robject, unwrap\n",
    "\n",
    "conn = BlitzGateway(username, password, host=host, port=port)\n",
    "conn.connect()"
   ]
  },
  {
   "cell_type": "markdown",
   "metadata": {},
   "source": [
    "# Import Parameters"
   ]
  },
  {
   "cell_type": "code",
   "execution_count": 21,
   "metadata": {},
   "outputs": [],
   "source": [
    "# fpath = '/scratch/khs3z/ORourke/JOW17/original'\n",
    "#source\n",
    "datasetId = 203\n",
    "numCols = 12\n",
    "rowLabels = {'A':0,'B':1,'C':2,'D':3,'E':4,'F':5,'G':6, 'H':7,}\n",
    "colLabels = {str(i+1).zfill(2):i for i in range(numCols)}\n",
    "\n",
    "# target\n",
    "screenId = 53"
   ]
  },
  {
   "cell_type": "markdown",
   "metadata": {},
   "source": [
    "# Function to create Well Information for Image"
   ]
  },
  {
   "cell_type": "code",
   "execution_count": 22,
   "metadata": {},
   "outputs": [],
   "source": [
    "import re\n",
    "\n",
    "\n",
    "def createWell(conn,plateId,imageId):\n",
    "    image = conn.getObject(\"Image\",imageId)\n",
    "    wellName = re.search('(?<=_Well)(.*?)(?=_Seq)', image.getName()).group(0)\n",
    "    m = re.split('(\\D+)', wellName)\n",
    "    wellRow = rowLabels[m[1]]\n",
    "    wellCol = colLabels[m[2]]\n",
    "    print (\"Row: %d, Col: %d, Well: %s, Name: %s\" % (wellRow, wellCol, wellName, image.getName()))\n",
    "\n",
    "    updateService = conn.getUpdateService()\n",
    "\n",
    "    well = omero.model.WellI()\n",
    "    well.plate = omero.model.PlateI(int(plateId), False)\n",
    "\n",
    "    #wellRowCol = Well96_to_RowCol.get(wellNum)\n",
    "    well.column = rint(wellCol) #rint(wellRowCol[1])\n",
    "    well.row = rint(wellRow) #rint(wellRowCol[0])\n",
    "\n",
    "    ws = omero.model.WellSampleI()\n",
    "    ws.image = omero.model.ImageI(image.id,False)\n",
    "    ws.well = well  \n",
    "    well.addWellSample(ws)\n",
    "    updateService.saveAndReturnObject(ws)"
   ]
  },
  {
   "cell_type": "markdown",
   "metadata": {},
   "source": [
    "# Create a new Plate"
   ]
  },
  {
   "cell_type": "code",
   "execution_count": 23,
   "metadata": {},
   "outputs": [],
   "source": [
    "# Get the dataset\n",
    "ds = conn.getObject('Dataset', datasetId)\n",
    "\n",
    "# get service instance\n",
    "updateService = conn.getUpdateService()\n",
    "\n",
    "# Define new plate using the dataset name\n",
    "plate = omero.model.PlateI()\n",
    "plate.name = omero.rtypes.RStringI(ds.getName())\n",
    "plate.columnNamingConvention = rstring(\"number\")\n",
    "plate.rowNamingConvention = rstring(\"letter\")\n",
    "plate = updateService.saveAndReturnObject(plate)\n",
    "plateId = plate.id.val\n",
    "plate = conn.getObject(\"Plate\",plateId)\n"
   ]
  },
  {
   "cell_type": "code",
   "execution_count": 24,
   "metadata": {},
   "outputs": [
    {
     "name": "stdout",
     "output_type": "stream",
     "text": [
      "Row: 0, Col: 0, Well: A01, Name: Plate000_WellA01_Seq0000.nd2.tiles.txt.tif\n",
      "Row: 0, Col: 1, Well: A02, Name: Plate000_WellA02_Seq0001.nd2.tiles.txt.tif\n",
      "Row: 0, Col: 2, Well: A03, Name: Plate000_WellA03_Seq0002.nd2.tiles.txt.tif\n",
      "Row: 0, Col: 3, Well: A04, Name: Plate000_WellA04_Seq0003.nd2.tiles.txt.tif\n",
      "Row: 0, Col: 4, Well: A05, Name: Plate000_WellA05_Seq0004.nd2.tiles.txt.tif\n",
      "Row: 0, Col: 5, Well: A06, Name: Plate000_WellA06_Seq0005.nd2.tiles.txt.tif\n",
      "Row: 0, Col: 6, Well: A07, Name: Plate000_WellA07_Seq0006.nd2.tiles.txt.tif\n",
      "Row: 0, Col: 7, Well: A08, Name: Plate000_WellA08_Seq0007.nd2.tiles.txt.tif\n",
      "Row: 0, Col: 8, Well: A09, Name: Plate000_WellA09_Seq0008.nd2.tiles.txt.tif\n",
      "Row: 0, Col: 9, Well: A10, Name: Plate000_WellA10_Seq0009.nd2.tiles.txt.tif\n",
      "Row: 0, Col: 10, Well: A11, Name: Plate000_WellA11_Seq0010.nd2.tiles.txt.tif\n",
      "Row: 0, Col: 11, Well: A12, Name: Plate000_WellA12_Seq0011.nd2.tiles.txt.tif\n",
      "Row: 1, Col: 0, Well: B01, Name: Plate000_WellB01_Seq0023.nd2.tiles.txt.tif\n",
      "Row: 1, Col: 1, Well: B02, Name: Plate000_WellB02_Seq0022.nd2.tiles.txt.tif\n",
      "Row: 1, Col: 2, Well: B03, Name: Plate000_WellB03_Seq0021.nd2.tiles.txt.tif\n",
      "Row: 1, Col: 3, Well: B04, Name: Plate000_WellB04_Seq0020.nd2.tiles.txt.tif\n",
      "Row: 1, Col: 4, Well: B05, Name: Plate000_WellB05_Seq0019.nd2.tiles.txt.tif\n",
      "Row: 1, Col: 5, Well: B06, Name: Plate000_WellB06_Seq0018.nd2.tiles.txt.tif\n",
      "Row: 1, Col: 6, Well: B07, Name: Plate000_WellB07_Seq0017.nd2.tiles.txt.tif\n",
      "Row: 1, Col: 7, Well: B08, Name: Plate000_WellB08_Seq0016.nd2.tiles.txt.tif\n",
      "Row: 1, Col: 8, Well: B09, Name: Plate000_WellB09_Seq0015.nd2.tiles.txt.tif\n",
      "Row: 1, Col: 9, Well: B10, Name: Plate000_WellB10_Seq0014.nd2.tiles.txt.tif\n",
      "Row: 1, Col: 10, Well: B11, Name: Plate000_WellB11_Seq0013.nd2.tiles.txt.tif\n",
      "Row: 1, Col: 11, Well: B12, Name: Plate000_WellB12_Seq0012.nd2.tiles.txt.tif\n",
      "Row: 2, Col: 0, Well: C01, Name: Plate000_WellC01_Seq0024.nd2.tiles.txt.tif\n",
      "Row: 2, Col: 1, Well: C02, Name: Plate000_WellC02_Seq0025.nd2.tiles.txt.tif\n",
      "Row: 2, Col: 2, Well: C03, Name: Plate000_WellC03_Seq0026.nd2.tiles.txt.tif\n",
      "Row: 2, Col: 3, Well: C04, Name: Plate000_WellC04_Seq0027.nd2.tiles.txt.tif\n",
      "Row: 2, Col: 4, Well: C05, Name: Plate000_WellC05_Seq0028.nd2.tiles.txt.tif\n",
      "Row: 2, Col: 5, Well: C06, Name: Plate000_WellC06_Seq0029.nd2.tiles.txt.tif\n",
      "Row: 2, Col: 6, Well: C07, Name: Plate000_WellC07_Seq0030.nd2.tiles.txt.tif\n",
      "Row: 2, Col: 7, Well: C08, Name: Plate000_WellC08_Seq0031.nd2.tiles.txt.tif\n",
      "Row: 2, Col: 8, Well: C09, Name: Plate000_WellC09_Seq0032.nd2.tiles.txt.tif\n",
      "Row: 2, Col: 9, Well: C10, Name: Plate000_WellC10_Seq0033.nd2.tiles.txt.tif\n",
      "Row: 2, Col: 10, Well: C11, Name: Plate000_WellC11_Seq0034.nd2.tiles.txt.tif\n",
      "Row: 2, Col: 11, Well: C12, Name: Plate000_WellC12_Seq0035.nd2.tiles.txt.tif\n",
      "Row: 3, Col: 0, Well: D01, Name: Plate000_WellD01_Seq0047.nd2.tiles.txt.tif\n",
      "Row: 3, Col: 1, Well: D02, Name: Plate000_WellD02_Seq0046.nd2.tiles.txt.tif\n",
      "Row: 3, Col: 2, Well: D03, Name: Plate000_WellD03_Seq0045.nd2.tiles.txt.tif\n",
      "Row: 3, Col: 3, Well: D04, Name: Plate000_WellD04_Seq0044.nd2.tiles.txt.tif\n",
      "Row: 3, Col: 4, Well: D05, Name: Plate000_WellD05_Seq0043.nd2.tiles.txt.tif\n",
      "Row: 3, Col: 5, Well: D06, Name: Plate000_WellD06_Seq0042.nd2.tiles.txt.tif\n",
      "Row: 3, Col: 6, Well: D07, Name: Plate000_WellD07_Seq0041.nd2.tiles.txt.tif\n",
      "Row: 3, Col: 7, Well: D08, Name: Plate000_WellD08_Seq0040.nd2.tiles.txt.tif\n",
      "Row: 3, Col: 8, Well: D09, Name: Plate000_WellD09_Seq0039.nd2.tiles.txt.tif\n",
      "Row: 3, Col: 9, Well: D10, Name: Plate000_WellD10_Seq0038.nd2.tiles.txt.tif\n",
      "Row: 3, Col: 10, Well: D11, Name: Plate000_WellD11_Seq0037.nd2.tiles.txt.tif\n",
      "Row: 3, Col: 11, Well: D12, Name: Plate000_WellD12_Seq0036.nd2.tiles.txt.tif\n",
      "Row: 4, Col: 0, Well: E01, Name: Plate000_WellE01_Seq0048.nd2.tiles.txt.tif\n",
      "Row: 4, Col: 1, Well: E02, Name: Plate000_WellE02_Seq0049.nd2.tiles.txt.tif\n",
      "Row: 4, Col: 2, Well: E03, Name: Plate000_WellE03_Seq0050.nd2.tiles.txt.tif\n",
      "Row: 4, Col: 3, Well: E04, Name: Plate000_WellE04_Seq0051.nd2.tiles.txt.tif\n",
      "Row: 4, Col: 4, Well: E05, Name: Plate000_WellE05_Seq0052.nd2.tiles.txt.tif\n",
      "Row: 4, Col: 5, Well: E06, Name: Plate000_WellE06_Seq0053.nd2.tiles.txt.tif\n",
      "Row: 4, Col: 6, Well: E07, Name: Plate000_WellE07_Seq0054.nd2.tiles.txt.tif\n",
      "Row: 4, Col: 7, Well: E08, Name: Plate000_WellE08_Seq0055.nd2.tiles.txt.tif\n",
      "Row: 4, Col: 8, Well: E09, Name: Plate000_WellE09_Seq0056.nd2.tiles.txt.tif\n",
      "Row: 4, Col: 9, Well: E10, Name: Plate000_WellE10_Seq0057.nd2.tiles.txt.tif\n",
      "Row: 4, Col: 10, Well: E11, Name: Plate000_WellE11_Seq0058.nd2.tiles.txt.tif\n",
      "Row: 4, Col: 11, Well: E12, Name: Plate000_WellE12_Seq0059.nd2.tiles.txt.tif\n",
      "Row: 5, Col: 0, Well: F01, Name: Plate000_WellF01_Seq0071.nd2.tiles.txt.tif\n",
      "Row: 5, Col: 1, Well: F02, Name: Plate000_WellF02_Seq0070.nd2.tiles.txt.tif\n",
      "Row: 5, Col: 2, Well: F03, Name: Plate000_WellF03_Seq0069.nd2.tiles.txt.tif\n",
      "Row: 5, Col: 3, Well: F04, Name: Plate000_WellF04_Seq0068.nd2.tiles.txt.tif\n",
      "Row: 5, Col: 4, Well: F05, Name: Plate000_WellF05_Seq0067.nd2.tiles.txt.tif\n",
      "Row: 5, Col: 5, Well: F06, Name: Plate000_WellF06_Seq0066.nd2.tiles.txt.tif\n",
      "Row: 5, Col: 6, Well: F07, Name: Plate000_WellF07_Seq0065.nd2.tiles.txt.tif\n",
      "Row: 5, Col: 7, Well: F08, Name: Plate000_WellF08_Seq0064.nd2.tiles.txt.tif\n",
      "Row: 5, Col: 8, Well: F09, Name: Plate000_WellF09_Seq0063.nd2.tiles.txt.tif\n",
      "Row: 5, Col: 9, Well: F10, Name: Plate000_WellF10_Seq0062.nd2.tiles.txt.tif\n",
      "Row: 5, Col: 10, Well: F11, Name: Plate000_WellF11_Seq0061.nd2.tiles.txt.tif\n",
      "Row: 5, Col: 11, Well: F12, Name: Plate000_WellF12_Seq0060.nd2.tiles.txt.tif\n",
      "Row: 6, Col: 0, Well: G01, Name: Plate000_WellG01_Seq0072.nd2.tiles.txt.tif\n",
      "Row: 6, Col: 1, Well: G02, Name: Plate000_WellG02_Seq0073.nd2.tiles.txt.tif\n",
      "Row: 6, Col: 2, Well: G03, Name: Plate000_WellG03_Seq0074.nd2.tiles.txt.tif\n",
      "Row: 6, Col: 3, Well: G04, Name: Plate000_WellG04_Seq0075.nd2.tiles.txt.tif\n",
      "Row: 6, Col: 4, Well: G05, Name: Plate000_WellG05_Seq0076.nd2.tiles.txt.tif\n",
      "Row: 6, Col: 5, Well: G06, Name: Plate000_WellG06_Seq0077.nd2.tiles.txt.tif\n",
      "Row: 6, Col: 6, Well: G07, Name: Plate000_WellG07_Seq0078.nd2.tiles.txt.tif\n",
      "Row: 6, Col: 7, Well: G08, Name: Plate000_WellG08_Seq0079.nd2.tiles.txt.tif\n",
      "Row: 6, Col: 8, Well: G09, Name: Plate000_WellG09_Seq0080.nd2.tiles.txt.tif\n",
      "Row: 6, Col: 9, Well: G10, Name: Plate000_WellG10_Seq0081.nd2.tiles.txt.tif\n",
      "Row: 6, Col: 10, Well: G11, Name: Plate000_WellG11_Seq0082.nd2.tiles.txt.tif\n",
      "Row: 6, Col: 11, Well: G12, Name: Plate000_WellG12_Seq0083.nd2.tiles.txt.tif\n",
      "Row: 7, Col: 0, Well: H01, Name: Plate000_WellH01_Seq0095.nd2.tiles.txt.tif\n",
      "Row: 7, Col: 1, Well: H02, Name: Plate000_WellH02_Seq0094.nd2.tiles.txt.tif\n",
      "Row: 7, Col: 2, Well: H03, Name: Plate000_WellH03_Seq0093.nd2.tiles.txt.tif\n",
      "Row: 7, Col: 3, Well: H04, Name: Plate000_WellH04_Seq0092.nd2.tiles.txt.tif\n",
      "Row: 7, Col: 4, Well: H05, Name: Plate000_WellH05_Seq0091.nd2.tiles.txt.tif\n",
      "Row: 7, Col: 5, Well: H06, Name: Plate000_WellH06_Seq0090.nd2.tiles.txt.tif\n",
      "Row: 7, Col: 6, Well: H07, Name: Plate000_WellH07_Seq0089.nd2.tiles.txt.tif\n",
      "Row: 7, Col: 7, Well: H08, Name: Plate000_WellH08_Seq0088.nd2.tiles.txt.tif\n",
      "Row: 7, Col: 8, Well: H09, Name: Plate000_WellH09_Seq0087.nd2.tiles.txt.tif\n",
      "Row: 7, Col: 9, Well: H10, Name: Plate000_WellH10_Seq0086.nd2.tiles.txt.tif\n",
      "Row: 7, Col: 10, Well: H11, Name: Plate000_WellH11_Seq0085.nd2.tiles.txt.tif\n",
      "Row: 7, Col: 11, Well: H12, Name: Plate000_WellH12_Seq0084.nd2.tiles.txt.tif\n"
     ]
    }
   ],
   "source": [
    "# Get Images from Raw Dataset and create Well info\n",
    "for img in ds.listChildren():\n",
    "    createWell(conn, plateId, img.getId())"
   ]
  },
  {
   "cell_type": "markdown",
   "metadata": {},
   "source": [
    "# Close Connection"
   ]
  },
  {
   "cell_type": "code",
   "execution_count": null,
   "metadata": {},
   "outputs": [],
   "source": [
    "conn.close()"
   ]
  },
  {
   "cell_type": "markdown",
   "metadata": {},
   "source": [
    "# Get files"
   ]
  },
  {
   "cell_type": "code",
   "execution_count": null,
   "metadata": {},
   "outputs": [],
   "source": [
    "from os import listdir\n",
    "from os.path import isfile, join\n",
    "\n",
    "\n",
    "imgfiles = [f for f in listdir(fpath) if isfile(join(fpath, f))]\n",
    "for f in imgfiles:\n",
    "    print f"
   ]
  }
 ],
 "metadata": {
  "kernelspec": {
   "display_name": "OMERO 5.4.10",
   "language": "python",
   "name": "omero"
  },
  "language_info": {
   "codemirror_mode": {
    "name": "ipython",
    "version": 2
   },
   "file_extension": ".py",
   "mimetype": "text/x-python",
   "name": "python",
   "nbconvert_exporter": "python",
   "pygments_lexer": "ipython2",
   "version": "2.7.15"
  }
 },
 "nbformat": 4,
 "nbformat_minor": 2
}
